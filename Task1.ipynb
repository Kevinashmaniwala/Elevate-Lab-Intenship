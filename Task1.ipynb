{
  "nbformat": 4,
  "nbformat_minor": 0,
  "metadata": {
    "colab": {
      "provenance": []
    },
    "kernelspec": {
      "name": "python3",
      "display_name": "Python 3"
    },
    "language_info": {
      "name": "python"
    }
  },
  "cells": [
    {
      "cell_type": "code",
      "execution_count": 1,
      "metadata": {
        "id": "35eTf7p08X7n"
      },
      "outputs": [],
      "source": [
        "#Step-1 : Load The Library:\n"
      ]
    },
    {
      "cell_type": "code",
      "source": [
        "import pandas as pd\n"
      ],
      "metadata": {
        "id": "YPp63eP-8h7M"
      },
      "execution_count": 2,
      "outputs": []
    },
    {
      "cell_type": "code",
      "source": [
        "#Step-2: Load The DataSet:\n"
      ],
      "metadata": {
        "id": "5OvJq63d83lD"
      },
      "execution_count": 3,
      "outputs": []
    },
    {
      "cell_type": "code",
      "source": [
        "data=pd.read_csv(\"/KaggleV2-May-2016.csv\")\n",
        "print(data)"
      ],
      "metadata": {
        "colab": {
          "base_uri": "https://localhost:8080/"
        },
        "id": "PiZcbuvL898v",
        "outputId": "2d620ee0-2d57-4d4c-ce6f-f176a821f272"
      },
      "execution_count": 6,
      "outputs": [
        {
          "output_type": "stream",
          "name": "stdout",
          "text": [
            "          PatientId  AppointmentID Gender          ScheduledDay  \\\n",
            "0      2.987250e+13        5642903      F  2016-04-29T18:38:08Z   \n",
            "1      5.589978e+14        5642503      M  2016-04-29T16:08:27Z   \n",
            "2      4.262962e+12        5642549      F  2016-04-29T16:19:04Z   \n",
            "3      8.679512e+11        5642828      F  2016-04-29T17:29:31Z   \n",
            "4      8.841186e+12        5642494      F  2016-04-29T16:07:23Z   \n",
            "...             ...            ...    ...                   ...   \n",
            "32337  2.941675e+13        5644273      F  2016-05-02T08:28:18Z   \n",
            "32338  3.326679e+12        5645249      F  2016-05-02T09:39:34Z   \n",
            "32339  4.924131e+12        5652725      M  2016-05-03T10:32:38Z   \n",
            "32340  2.419962e+13        5707125      F  2016-05-17T09:12:38Z   \n",
            "32341  3.837653e+14        5732574      F          2016-05-24T1   \n",
            "\n",
            "             AppointmentDay   Age      Neighbourhood  Scholarship  \\\n",
            "0      2016-04-29T00:00:00Z  62.0    JARDIM DA PENHA          0.0   \n",
            "1      2016-04-29T00:00:00Z  56.0    JARDIM DA PENHA          0.0   \n",
            "2      2016-04-29T00:00:00Z  62.0      MATA DA PRAIA          0.0   \n",
            "3      2016-04-29T00:00:00Z   8.0  PONTAL DE CAMBURI          0.0   \n",
            "4      2016-04-29T00:00:00Z  56.0    JARDIM DA PENHA          0.0   \n",
            "...                     ...   ...                ...          ...   \n",
            "32337  2016-05-24T00:00:00Z  56.0             CENTRO          0.0   \n",
            "32338  2016-05-31T00:00:00Z  60.0             CENTRO          0.0   \n",
            "32339  2016-05-03T00:00:00Z  41.0          DO QUADRO          0.0   \n",
            "32340  2016-05-17T00:00:00Z  27.0             CENTRO          0.0   \n",
            "32341                   NaN   NaN                NaN          NaN   \n",
            "\n",
            "       Hipertension  Diabetes  Alcoholism  Handcap  SMS_received No-show  \n",
            "0               1.0       0.0         0.0      0.0           0.0      No  \n",
            "1               0.0       0.0         0.0      0.0           0.0      No  \n",
            "2               0.0       0.0         0.0      0.0           0.0      No  \n",
            "3               0.0       0.0         0.0      0.0           0.0      No  \n",
            "4               1.0       1.0         0.0      0.0           0.0      No  \n",
            "...             ...       ...         ...      ...           ...     ...  \n",
            "32337           0.0       0.0         0.0      0.0           0.0      No  \n",
            "32338           1.0       0.0         0.0      0.0           1.0      No  \n",
            "32339           0.0       0.0         0.0      0.0           0.0      No  \n",
            "32340           0.0       0.0         0.0      0.0           0.0      No  \n",
            "32341           NaN       NaN         NaN      NaN           NaN     NaN  \n",
            "\n",
            "[32342 rows x 14 columns]\n"
          ]
        }
      ]
    },
    {
      "cell_type": "code",
      "source": [
        "#Step 3: Identify And Handle Missing Values:"
      ],
      "metadata": {
        "id": "bm7LIXU_9v02"
      },
      "execution_count": null,
      "outputs": []
    },
    {
      "cell_type": "code",
      "source": [
        "print(\"Identify and handle missing values\")\n",
        "print(\"\\nMissing values before cleaning:\\n\", data.isnull().sum())"
      ],
      "metadata": {
        "colab": {
          "base_uri": "https://localhost:8080/"
        },
        "id": "IouUZzvM9t61",
        "outputId": "6d375cba-1201-485e-ea1c-9848f20f652c"
      },
      "execution_count": 8,
      "outputs": [
        {
          "output_type": "stream",
          "name": "stdout",
          "text": [
            "Identify and handle missing values\n",
            "\n",
            "Missing values before cleaning:\n",
            " PatientId         0\n",
            "AppointmentID     0\n",
            "Gender            0\n",
            "ScheduledDay      0\n",
            "AppointmentDay    1\n",
            "Age               1\n",
            "Neighbourhood     1\n",
            "Scholarship       1\n",
            "Hipertension      1\n",
            "Diabetes          1\n",
            "Alcoholism        1\n",
            "Handcap           1\n",
            "SMS_received      1\n",
            "No-show           1\n",
            "dtype: int64\n"
          ]
        }
      ]
    },
    {
      "cell_type": "code",
      "source": [
        "#Step-4: Drop Missing Rows In Place:"
      ],
      "metadata": {
        "id": "I9PXzrCA98ai"
      },
      "execution_count": 9,
      "outputs": []
    },
    {
      "cell_type": "code",
      "source": [
        "data.dropna(inplace=True)\n",
        "print(\" Missing Values After Cleaning:\\n\", data.isnull().sum())"
      ],
      "metadata": {
        "colab": {
          "base_uri": "https://localhost:8080/"
        },
        "id": "8y7czuQS-Iv7",
        "outputId": "798365ad-00c3-459f-9a81-9abc247ca77d"
      },
      "execution_count": 11,
      "outputs": [
        {
          "output_type": "stream",
          "name": "stdout",
          "text": [
            " Missing values after cleaning:\n",
            " PatientId         0\n",
            "AppointmentID     0\n",
            "Gender            0\n",
            "ScheduledDay      0\n",
            "AppointmentDay    0\n",
            "Age               0\n",
            "Neighbourhood     0\n",
            "Scholarship       0\n",
            "Hipertension      0\n",
            "Diabetes          0\n",
            "Alcoholism        0\n",
            "Handcap           0\n",
            "SMS_received      0\n",
            "No-show           0\n",
            "dtype: int64\n"
          ]
        }
      ]
    },
    {
      "cell_type": "code",
      "source": [
        "#Step 5: Remove Duplicate Records:\n"
      ],
      "metadata": {
        "id": "is_Nvz36-hUE"
      },
      "execution_count": 12,
      "outputs": []
    },
    {
      "cell_type": "code",
      "source": [
        "print(\"Remove Duplicate Records\")\n",
        "\n",
        "duplicates_before = data.duplicated().sum()\n",
        "print(f\"\\n Duplicates before cleaning:\\n {duplicates_before}\")\n",
        "\n",
        "data.drop_duplicates(inplace=True)\n",
        "\n",
        "duplicates_after = data.duplicated().sum()\n",
        "print(f\"\\n Duplicates after cleaning:\\n {duplicates_after}\")\n"
      ],
      "metadata": {
        "colab": {
          "base_uri": "https://localhost:8080/"
        },
        "id": "G95GflEK-vEw",
        "outputId": "774be04d-7a52-4fc5-d17b-7a0a0713fd3e"
      },
      "execution_count": 13,
      "outputs": [
        {
          "output_type": "stream",
          "name": "stdout",
          "text": [
            "Remove Duplicate Records\n",
            "\n",
            " Duplicates before cleaning:\n",
            " 0\n",
            "\n",
            " Duplicates after cleaning:\n",
            " 0\n"
          ]
        }
      ]
    },
    {
      "cell_type": "code",
      "source": [
        "# Step 6: Rename columns for consistency\n"
      ],
      "metadata": {
        "id": "-fGXXptm-3bU"
      },
      "execution_count": 15,
      "outputs": []
    },
    {
      "cell_type": "code",
      "source": [
        "\n",
        "print(\"Rename columns for consistency\")\n",
        "\n",
        "data.columns = [col.strip().lower().replace(\" \", \"_\") for col in data.columns]\n",
        "#strip: Removes extra spaces at the beginning or end of the name.\n",
        "\n",
        "print(\"\\n Standardized column names:\\n\", data.columns.tolist())\n"
      ],
      "metadata": {
        "colab": {
          "base_uri": "https://localhost:8080/"
        },
        "id": "GT9JyKoV_Bf7",
        "outputId": "b6c4c0a6-f84b-4229-c8c3-21a363ffe39e"
      },
      "execution_count": 22,
      "outputs": [
        {
          "output_type": "stream",
          "name": "stdout",
          "text": [
            "Rename columns for consistency\n",
            "\n",
            " Standardized column names:\n",
            " ['patientid', 'appointmentid', 'gender', 'scheduledday', 'appointmentday', 'age', 'neighbourhood', 'scholarship', 'hipertension', 'diabetes', 'alcoholism', 'handcap', 'sms_received', 'no-show']\n"
          ]
        }
      ]
    },
    {
      "cell_type": "code",
      "source": [
        "#Step-7: Convert Date Formats To A Consistent Type (e.g., dd-mm-yyyy)"
      ],
      "metadata": {
        "id": "N91xBdcJBJb-"
      },
      "execution_count": null,
      "outputs": []
    },
    {
      "cell_type": "code",
      "source": [
        "data['scheduledday'] = pd.to_datetime(data['scheduledday']).dt.strftime('%d-%m-%Y')\n",
        "print(data)"
      ],
      "metadata": {
        "colab": {
          "base_uri": "https://localhost:8080/"
        },
        "id": "E7cM7QaN_0T6",
        "outputId": "6e0ddc5a-e5c4-4e37-f392-13636750b6ab"
      },
      "execution_count": 21,
      "outputs": [
        {
          "output_type": "stream",
          "name": "stderr",
          "text": [
            "/tmp/ipython-input-408270096.py:1: UserWarning: Parsing dates in %d-%m-%Y format when dayfirst=False (the default) was specified. Pass `dayfirst=True` or specify a format to silence this warning.\n",
            "  data['scheduledday'] = pd.to_datetime(data['scheduledday']).dt.strftime('%d-%m-%Y')\n"
          ]
        },
        {
          "output_type": "stream",
          "name": "stdout",
          "text": [
            "          patientid  appointmentid gender scheduledday        appointmentday  \\\n",
            "0      2.987250e+13        5642903      F   29-04-2016  2016-04-29T00:00:00Z   \n",
            "1      5.589978e+14        5642503      M   29-04-2016  2016-04-29T00:00:00Z   \n",
            "2      4.262962e+12        5642549      F   29-04-2016  2016-04-29T00:00:00Z   \n",
            "3      8.679512e+11        5642828      F   29-04-2016  2016-04-29T00:00:00Z   \n",
            "4      8.841186e+12        5642494      F   29-04-2016  2016-04-29T00:00:00Z   \n",
            "...             ...            ...    ...          ...                   ...   \n",
            "32336  3.758937e+13        5643908      F   02-05-2016  2016-05-17T00:00:00Z   \n",
            "32337  2.941675e+13        5644273      F   02-05-2016  2016-05-24T00:00:00Z   \n",
            "32338  3.326679e+12        5645249      F   02-05-2016  2016-05-31T00:00:00Z   \n",
            "32339  4.924131e+12        5652725      M   03-05-2016  2016-05-03T00:00:00Z   \n",
            "32340  2.419962e+13        5707125      F   17-05-2016  2016-05-17T00:00:00Z   \n",
            "\n",
            "        age      neighbourhood  scholarship  hipertension  diabetes  \\\n",
            "0      62.0    JARDIM DA PENHA          0.0           1.0       0.0   \n",
            "1      56.0    JARDIM DA PENHA          0.0           0.0       0.0   \n",
            "2      62.0      MATA DA PRAIA          0.0           0.0       0.0   \n",
            "3       8.0  PONTAL DE CAMBURI          0.0           0.0       0.0   \n",
            "4      56.0    JARDIM DA PENHA          0.0           1.0       1.0   \n",
            "...     ...                ...          ...           ...       ...   \n",
            "32336  34.0             CENTRO          0.0           0.0       0.0   \n",
            "32337  56.0             CENTRO          0.0           0.0       0.0   \n",
            "32338  60.0             CENTRO          0.0           1.0       0.0   \n",
            "32339  41.0          DO QUADRO          0.0           0.0       0.0   \n",
            "32340  27.0             CENTRO          0.0           0.0       0.0   \n",
            "\n",
            "       alcoholism  handcap  sms_received no-show  \n",
            "0             0.0      0.0           0.0      No  \n",
            "1             0.0      0.0           0.0      No  \n",
            "2             0.0      0.0           0.0      No  \n",
            "3             0.0      0.0           0.0      No  \n",
            "4             0.0      0.0           0.0      No  \n",
            "...           ...      ...           ...     ...  \n",
            "32336         0.0      0.0           0.0     Yes  \n",
            "32337         0.0      0.0           0.0      No  \n",
            "32338         0.0      0.0           1.0      No  \n",
            "32339         0.0      0.0           0.0      No  \n",
            "32340         0.0      0.0           0.0      No  \n",
            "\n",
            "[32341 rows x 14 columns]\n"
          ]
        }
      ]
    },
    {
      "cell_type": "code",
      "source": [
        "#Step-8: Check The DataTypes:\n"
      ],
      "metadata": {
        "id": "pMg6Z_p8BEPz"
      },
      "execution_count": 23,
      "outputs": []
    },
    {
      "cell_type": "code",
      "source": [
        "data.dtypes"
      ],
      "metadata": {
        "colab": {
          "base_uri": "https://localhost:8080/",
          "height": 523
        },
        "id": "FMpg5sYnBY76",
        "outputId": "b0b51dd0-3684-406f-f1e3-42174628a4b6"
      },
      "execution_count": 24,
      "outputs": [
        {
          "output_type": "execute_result",
          "data": {
            "text/plain": [
              "patientid         float64\n",
              "appointmentid       int64\n",
              "gender             object\n",
              "scheduledday       object\n",
              "appointmentday     object\n",
              "age               float64\n",
              "neighbourhood      object\n",
              "scholarship       float64\n",
              "hipertension      float64\n",
              "diabetes          float64\n",
              "alcoholism        float64\n",
              "handcap           float64\n",
              "sms_received      float64\n",
              "no-show            object\n",
              "dtype: object"
            ],
            "text/html": [
              "<div>\n",
              "<style scoped>\n",
              "    .dataframe tbody tr th:only-of-type {\n",
              "        vertical-align: middle;\n",
              "    }\n",
              "\n",
              "    .dataframe tbody tr th {\n",
              "        vertical-align: top;\n",
              "    }\n",
              "\n",
              "    .dataframe thead th {\n",
              "        text-align: right;\n",
              "    }\n",
              "</style>\n",
              "<table border=\"1\" class=\"dataframe\">\n",
              "  <thead>\n",
              "    <tr style=\"text-align: right;\">\n",
              "      <th></th>\n",
              "      <th>0</th>\n",
              "    </tr>\n",
              "  </thead>\n",
              "  <tbody>\n",
              "    <tr>\n",
              "      <th>patientid</th>\n",
              "      <td>float64</td>\n",
              "    </tr>\n",
              "    <tr>\n",
              "      <th>appointmentid</th>\n",
              "      <td>int64</td>\n",
              "    </tr>\n",
              "    <tr>\n",
              "      <th>gender</th>\n",
              "      <td>object</td>\n",
              "    </tr>\n",
              "    <tr>\n",
              "      <th>scheduledday</th>\n",
              "      <td>object</td>\n",
              "    </tr>\n",
              "    <tr>\n",
              "      <th>appointmentday</th>\n",
              "      <td>object</td>\n",
              "    </tr>\n",
              "    <tr>\n",
              "      <th>age</th>\n",
              "      <td>float64</td>\n",
              "    </tr>\n",
              "    <tr>\n",
              "      <th>neighbourhood</th>\n",
              "      <td>object</td>\n",
              "    </tr>\n",
              "    <tr>\n",
              "      <th>scholarship</th>\n",
              "      <td>float64</td>\n",
              "    </tr>\n",
              "    <tr>\n",
              "      <th>hipertension</th>\n",
              "      <td>float64</td>\n",
              "    </tr>\n",
              "    <tr>\n",
              "      <th>diabetes</th>\n",
              "      <td>float64</td>\n",
              "    </tr>\n",
              "    <tr>\n",
              "      <th>alcoholism</th>\n",
              "      <td>float64</td>\n",
              "    </tr>\n",
              "    <tr>\n",
              "      <th>handcap</th>\n",
              "      <td>float64</td>\n",
              "    </tr>\n",
              "    <tr>\n",
              "      <th>sms_received</th>\n",
              "      <td>float64</td>\n",
              "    </tr>\n",
              "    <tr>\n",
              "      <th>no-show</th>\n",
              "      <td>object</td>\n",
              "    </tr>\n",
              "  </tbody>\n",
              "</table>\n",
              "</div><br><label><b>dtype:</b> object</label>"
            ]
          },
          "metadata": {},
          "execution_count": 24
        }
      ]
    },
    {
      "cell_type": "code",
      "source": [
        "data.info()"
      ],
      "metadata": {
        "colab": {
          "base_uri": "https://localhost:8080/"
        },
        "id": "fBbtqA4vBckZ",
        "outputId": "b385a2ae-256f-4764-9c1c-76c7e21c7636"
      },
      "execution_count": 26,
      "outputs": [
        {
          "output_type": "stream",
          "name": "stdout",
          "text": [
            "<class 'pandas.core.frame.DataFrame'>\n",
            "Index: 32341 entries, 0 to 32340\n",
            "Data columns (total 14 columns):\n",
            " #   Column          Non-Null Count  Dtype  \n",
            "---  ------          --------------  -----  \n",
            " 0   patientid       32341 non-null  float64\n",
            " 1   appointmentid   32341 non-null  int64  \n",
            " 2   gender          32341 non-null  object \n",
            " 3   scheduledday    32341 non-null  object \n",
            " 4   appointmentday  32341 non-null  object \n",
            " 5   age             32341 non-null  float64\n",
            " 6   neighbourhood   32341 non-null  object \n",
            " 7   scholarship     32341 non-null  float64\n",
            " 8   hipertension    32341 non-null  float64\n",
            " 9   diabetes        32341 non-null  float64\n",
            " 10  alcoholism      32341 non-null  float64\n",
            " 11  handcap         32341 non-null  float64\n",
            " 12  sms_received    32341 non-null  float64\n",
            " 13  no-show         32341 non-null  object \n",
            "dtypes: float64(8), int64(1), object(5)\n",
            "memory usage: 3.7+ MB\n"
          ]
        }
      ]
    },
    {
      "cell_type": "code",
      "source": [],
      "metadata": {
        "id": "VJ0wRZEtBxSP"
      },
      "execution_count": null,
      "outputs": []
    }
  ]
}